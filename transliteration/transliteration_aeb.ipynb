{
 "cells": [
  {
   "cell_type": "code",
   "execution_count": null,
   "metadata": {},
   "outputs": [],
   "source": [
    "#!git clone https://github.com/MLRS/malti.git"
   ]
  },
  {
   "cell_type": "code",
   "execution_count": 4,
   "metadata": {},
   "outputs": [],
   "source": [
    "import requests\n",
    "from src.transliterate import transliterate\n",
    "import src.token_rankers as token_rankers"
   ]
  },
  {
   "cell_type": "code",
   "execution_count": null,
   "metadata": {},
   "outputs": [],
   "source": [
    "token_mappings = [\"./src/token_mappings/small_closed_class.map\", \"./src/token_mappings/additional_closed_class.map\"]\n",
    "token_rankers = [\n",
    "    token_rankers.WordModelScoreRanker(\"./language_models/aggregated_country/lm/word/tn-maghreb.arpa\"),\n",
    "    token_rankers.CharacterModelScoreRanker(\"./language_models/aggregated_country/lm/char/tn-maghreb.arpa\"),\n",
    "]"
   ]
  },
  {
   "cell_type": "code",
   "execution_count": 6,
   "metadata": {},
   "outputs": [],
   "source": [
    "#get token mappings from aeb file\n",
    "TOKEN_MAPPINGS = {}\n",
    "def get_token_mappings_aeb(path: str) -> dict[str, str]:\n",
    "    if path not in TOKEN_MAPPINGS:\n",
    "        with open(path, \"r\", encoding=\"utf-8\") as file:\n",
    "            mappings = {}\n",
    "            for line in file:\n",
    "                token, eng, mapping = line.strip().split(\"\\t\")\n",
    "                mappings[token] = mapping\n",
    "            TOKEN_MAPPINGS[path] = mappings\n",
    "    return TOKEN_MAPPINGS[path]"
   ]
  },
  {
   "cell_type": "code",
   "execution_count": 7,
   "metadata": {},
   "outputs": [],
   "source": [
    "#get aeb translation\n",
    "mt_en_aeb_translations = \"./src/translations/1504_mt_en_aeb.txt\"\n",
    "def translate_token_aeb(token: str) -> str:\n",
    "    try:\n",
    "        return get_token_mappings_aeb(mt_en_aeb_translations)[token]\n",
    "    except KeyError:\n",
    "        return transliterate(token, token_mappings, token_rankers, return_token_merge=False)"
   ]
  },
  {
   "cell_type": "code",
   "execution_count": null,
   "metadata": {},
   "outputs": [],
   "source": [
    "import pickle\n",
    "import sys\n",
    "sys.path.append('./src')\n",
    "from src.etymology_classification import featurise\n",
    "with open(\"./src/etymology_data/model.pickle\", \"rb\") as file:\n",
    "    model = pickle.load(file)"
   ]
  },
  {
   "cell_type": "markdown",
   "metadata": {},
   "source": [
    "# Demo: mixed transliteration/translation pipeline for Tunisian Arabic"
   ]
  },
  {
   "cell_type": "code",
   "execution_count": null,
   "metadata": {},
   "outputs": [],
   "source": [
    "text = \"Il-karozza Porsche tal-2022 għandha speed fenomenali!\"\n",
    "tokens = requests.get(\"https://mlrs.research.um.edu.mt/tools/mlrsapi/tokenise\", params={\"text\": text}).json()[\"result\"]\n",
    "labels = model.predict([featurise(tokens)])[0]\n",
    "labels.tolist()"
   ]
  },
  {
   "cell_type": "code",
   "execution_count": 10,
   "metadata": {},
   "outputs": [
    {
     "name": "stdout",
     "output_type": "stream",
     "text": [
      "Il-karozza Porsche tal-2022 għandha speed fenomenali!\n",
      "['Arabic' 'Non-Arabic' 'Name' 'Arabic' 'Symbol' 'Arabic' 'Code-Switching'\n",
      " 'Non-Arabic' 'Symbol']\n",
      "الالسيارات برسكهي تاع ال٢٠٢٢ عندها صباد الظواهر ! \n"
     ]
    }
   ],
   "source": [
    "transliteration_translation_ar = []\n",
    "for i, label in enumerate(labels):\n",
    "\n",
    "    if label in (\"Arabic\", \"Symbol\"):\n",
    "        transliteration_translation_ar.append(transliterate(tokens[i], token_mappings, token_rankers, return_token_merge=False))\n",
    "    else:\n",
    "        transliteration_translation_ar.append(translate_token_aeb(tokens[i]))\n",
    "\n",
    "# merge adjacent tokens according to Arabic orthographic conventions\n",
    "boolean_list = []\n",
    "for token in tokens:\n",
    "    transliteration, merge_bool = transliterate(token, token_mappings, token_rankers, return_token_merge=True)\n",
    "    boolean_list.append(merge_bool)\n",
    "\n",
    "combined_str = ''\n",
    "for transformed_tok, merge_bool in zip(transliteration_translation_ar, boolean_list):\n",
    "    if merge_bool:\n",
    "        combined_str += transformed_tok\n",
    "    else:\n",
    "        combined_str += transformed_tok + ' '\n",
    "print(text)\n",
    "print(labels)\n",
    "print(combined_str)"
   ]
  }
 ],
 "metadata": {
  "kernelspec": {
   "display_name": "Python 3",
   "language": "python",
   "name": "python3"
  },
  "language_info": {
   "codemirror_mode": {
    "name": "ipython",
    "version": 3
   },
   "file_extension": ".py",
   "mimetype": "text/x-python",
   "name": "python",
   "nbconvert_exporter": "python",
   "pygments_lexer": "ipython3",
   "version": "3.10.14"
  }
 },
 "nbformat": 4,
 "nbformat_minor": 2
}
